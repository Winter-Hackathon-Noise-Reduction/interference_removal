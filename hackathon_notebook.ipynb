{
  "cells": [
    {
      "cell_type": "code",
      "execution_count": 1,
      "metadata": {
        "colab": {
          "base_uri": "https://localhost:8080/"
        },
        "id": "aVL_SCgWp0cO",
        "outputId": "905421f5-8a51-4396-d115-f1ff4c0622e2"
      },
      "outputs": [
        {
          "ename": "ModuleNotFoundError",
          "evalue": "No module named 'google'",
          "output_type": "error",
          "traceback": [
            "\u001b[1;31m---------------------------------------------------------------------------\u001b[0m",
            "\u001b[1;31mModuleNotFoundError\u001b[0m                       Traceback (most recent call last)",
            "Cell \u001b[1;32mIn[1], line 1\u001b[0m\n\u001b[1;32m----> 1\u001b[0m \u001b[39mfrom\u001b[39;00m \u001b[39mgoogle\u001b[39;00m\u001b[39m.\u001b[39;00m\u001b[39mcolab\u001b[39;00m \u001b[39mimport\u001b[39;00m drive\n\u001b[0;32m      2\u001b[0m drive\u001b[39m.\u001b[39mmount(\u001b[39m'\u001b[39m\u001b[39m/content/drive\u001b[39m\u001b[39m'\u001b[39m)\n",
            "\u001b[1;31mModuleNotFoundError\u001b[0m: No module named 'google'"
          ]
        }
      ],
      "source": [
        "from google.colab import drive\n",
        "drive.mount('/content/drive')"
      ]
    },
    {
      "cell_type": "code",
      "execution_count": null,
      "metadata": {
        "id": "9MPQ5YX8rQSj"
      },
      "outputs": [],
      "source": [
        "import os, sys\n",
        "import cv2\n",
        "import imutils\n",
        "from datetime import datetime"
      ]
    },
    {
      "cell_type": "code",
      "execution_count": null,
      "metadata": {
        "id": "Ws0ZjvNopVdH"
      },
      "outputs": [],
      "source": [
        "## function to overlap the images from the three radars together\n",
        "import pathlib\n",
        "\n",
        "def overlap_maps(images):\n",
        "    final_images = []\n",
        "    for image_path in images:\n",
        "        image_extension = pathlib.Path(image_path).suffix\n",
        "        if image_extension == 'gif':\n",
        "            cap = cv2.VideoCapture(image_path)\n",
        "            ret, image = cap.read()\n",
        "            cap.release()\n",
        "            \n",
        "            if ret:\n",
        "                final_images.append(image)\n",
        "        else:\n",
        "            image = cv2.imread(image_path)\n",
        "            final_images.append(image)\n",
        "        \n",
        "    stitcher = cv2.createStitcher() if imutils.is_cv3() else cv2.Stitcher_create()\n",
        "    (status, stitched) = stitcher.stitch(final_images)\n",
        "\n",
        "    cv2.imshow(\"Stitched\", stitched)\n",
        "    cv2.waitKey(0)\n",
        "    cv2.destroyAllWindows()"
      ]
    },
    {
      "cell_type": "code",
      "execution_count": null,
      "metadata": {
        "colab": {
          "base_uri": "https://localhost:8080/"
        },
        "id": "ThL83ZJQrPUO",
        "outputId": "b43924c5-ed7c-4672-c714-ac90048e529a"
      },
      "outputs": [
        {
          "data": {
            "text/plain": [
              "True"
            ]
          },
          "execution_count": 29,
          "metadata": {},
          "output_type": "execute_result"
        }
      ],
      "source": [
        "data_path = r\"drive/My Drive/Winter Hackathon/winter_hackathon_data/aemet/10min\""
      ]
    },
    {
      "cell_type": "code",
      "execution_count": null,
      "metadata": {
        "colab": {
          "base_uri": "https://localhost:8080/"
        },
        "id": "qA9AeXE6r7ZQ",
        "outputId": "f71ca7e1-5b9f-4e6e-e92b-134181674ccb"
      },
      "outputs": [
        {
          "name": "stderr",
          "output_type": "stream",
          "text": [
            "IOPub data rate exceeded.\n",
            "The notebook server will temporarily stop sending output\n",
            "to the client in order to avoid crashing it.\n",
            "To change this limit, set the config variable\n",
            "`--NotebookApp.iopub_data_rate_limit`.\n",
            "\n",
            "Current values:\n",
            "NotebookApp.iopub_data_rate_limit=1000000.0 (bytes/sec)\n",
            "NotebookApp.rate_limit_window=3.0 (secs)\n",
            "\n"
          ]
        }
      ],
      "source": [
        "radar_names = [\"ba\", \"pm\", \"va\"]\n",
        "\n",
        "year = [2022]\n",
        "month_day_mappings = {1: 31, 2: 28, 3:31, 4: 30, 5: 31}\n",
        "\n",
        "complete_missing_data = {}\n",
        "\n",
        "time_stamps = [format(num, \"04\") for num in range(0, 2400, 10)]\n",
        "\n",
        "year = 2022\n",
        "dry_months = [1,2]\n",
        "wet_months = [4,5]\n",
        "\n",
        "dry_months_data = {}\n",
        "wet_months_data = {}\n",
        "\n",
        "# function to get the months data files\n",
        "def get_month_data(months):\n",
        "    months_data = {}\n",
        "    for month in months:\n",
        "        num_days = month_day_mappings[month]\n",
        "        for day in range(1, num_days+1):\n",
        "            for radar in radar_names:\n",
        "                specific_folder_path = os.path.join(data_path, radar)\n",
        "                date = \"{0}{1}{2}\".format(year, format(month, \"02\"), format(day, \"02\"))\n",
        "                for stamp in time_stamps:\n",
        "                    time_stamp_data = []\n",
        "                    possible_file_name = \"aemet_{0}_{1}{2}.gif\".format(radar, date, stamp)\n",
        "                    image_file_path = os.path.join(data_path, radar, date, possible_file_name)\n",
        "                    if os.path.isfile(image_file_path):\n",
        "                        date_time_stamp = \"{0}{1}\".format(date, stamp)\n",
        "                        if date_time_stamp not in months_data:\n",
        "                            months_data[date_time_stamp] = {}\n",
        "                        months_data[date_time_stamp][radar] = image_file_path\n",
        "\n",
        "    return months_data\n",
        "\n",
        "dry_months_data = get_month_data(dry_months)\n",
        "print(dry_months_data)"
      ]
    },
    {
      "cell_type": "code",
      "execution_count": null,
      "metadata": {
        "id": "g51-GA9Ir8PU"
      },
      "outputs": [],
      "source": [
        "from process_contours import findRadialInterferences\n",
        "\n"
      ]
    }
  ],
  "metadata": {
    "colab": {
      "provenance": []
    },
    "kernelspec": {
      "display_name": "python38",
      "language": "python",
      "name": "python3"
    },
    "language_info": {
      "codemirror_mode": {
        "name": "ipython",
        "version": 3
      },
      "file_extension": ".py",
      "mimetype": "text/x-python",
      "name": "python",
      "nbconvert_exporter": "python",
      "pygments_lexer": "ipython3",
      "version": "3.8.12"
    },
    "vscode": {
      "interpreter": {
        "hash": "a2bb38f53e56e338dab28a1b323581e7a90ef2a1f570cb1c8e3040f2077338a1"
      }
    }
  },
  "nbformat": 4,
  "nbformat_minor": 0
}
